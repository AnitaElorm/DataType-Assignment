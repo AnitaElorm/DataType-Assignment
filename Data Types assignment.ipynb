{
 "cells": [
  {
   "cell_type": "markdown",
   "id": "1971db0e",
   "metadata": {},
   "source": [
    "### Q1\n",
    "List the basic data types in python and give one example each."
   ]
  },
  {
   "cell_type": "code",
   "execution_count": null,
   "id": "6c25a697",
   "metadata": {},
   "outputs": [],
   "source": [
    "1. String: \"Anita\"\n",
    "2. Interger: Age = 28\n",
    "3. Float: weeks = 7.5\n",
    "4. Boolean: True or False "
   ]
  },
  {
   "cell_type": "markdown",
   "id": "4a2be5ba",
   "metadata": {},
   "source": [
    "### Q2\n",
    "Change the variable x = 4539.85 to :\n",
    "\n",
    "(i) a string and assign it to a new variable y,\n",
    "\n",
    "(ii) an integer and assign it to a new variable z\n",
    "\n",
    "Print out the type of y and z."
   ]
  },
  {
   "cell_type": "code",
   "execution_count": 12,
   "id": "4f69aaca",
   "metadata": {},
   "outputs": [
    {
     "data": {
      "text/plain": [
       "str"
      ]
     },
     "execution_count": 12,
     "metadata": {},
     "output_type": "execute_result"
    }
   ],
   "source": [
    "x = 4539.85\n",
    "y = str(x)\n",
    "type(y)"
   ]
  },
  {
   "cell_type": "code",
   "execution_count": 13,
   "id": "8e839974",
   "metadata": {},
   "outputs": [
    {
     "data": {
      "text/plain": [
       "int"
      ]
     },
     "execution_count": 13,
     "metadata": {},
     "output_type": "execute_result"
    }
   ],
   "source": [
    "z = x\n",
    "z = int(x)\n",
    "type(z)"
   ]
  },
  {
   "cell_type": "markdown",
   "id": "81a1251c",
   "metadata": {},
   "source": [
    "### Q3\n",
    "\n",
    "What data type would you use to store\n",
    "\n",
    "a. The price of car?\n",
    "Integer\n",
    "\n",
    "b. The age of a person\n",
    "Integer\n",
    "\n",
    "c. car plate number: plateNumber = \"AV01-AFP\"?\n",
    "String \n",
    "\n",
    "d. The price of fuel\n",
    "Float\n",
    "\n",
    "e. The number of students in the class\n",
    "Interger\n",
    "\n",
    "f. The weight of a person\n",
    "Float\n",
    "\n",
    "g. Check whether two figures are equal\n",
    "Boolean\n",
    "\n",
    "i. The name of a  school\n",
    "String \n",
    "\n",
    "j. The average result of the overall score of a student\n",
    "Float\n",
    "\n",
    "k. The total number of vote cast\n",
    "Interger\n"
   ]
  },
  {
   "cell_type": "markdown",
   "id": "f0694362",
   "metadata": {},
   "source": [
    "### Q4\n",
    "**Thomas Partey is arguably the best player in the Black Stars. He is a great addition to the team**\n",
    "\n",
    "Split the statement above into **two statement_1** and **statement_2** such that statement_1 will be 'Thomas Partey is arguably the best player in the Black Stars' and statement_2 will be 'He is a great addition to the team'\n",
    "\n",
    "Statement:\n",
    "\n",
    "- **What is the length of statment 1?**\n",
    "-**What is the length of statment 2?**\n",
    "-**Is the length of statement 1 greater than statement 2**"
   ]
  },
  {
   "cell_type": "code",
   "execution_count": 30,
   "id": "72d8685e",
   "metadata": {},
   "outputs": [],
   "source": [
    "statement_1 = ('Thomas Partey is arguably the best player in the Black Stars')"
   ]
  },
  {
   "cell_type": "code",
   "execution_count": 31,
   "id": "2e243186",
   "metadata": {},
   "outputs": [
    {
     "data": {
      "text/plain": [
       "60"
      ]
     },
     "execution_count": 31,
     "metadata": {},
     "output_type": "execute_result"
    }
   ],
   "source": [
    "len(statement_1)"
   ]
  },
  {
   "cell_type": "code",
   "execution_count": null,
   "id": "da21765b",
   "metadata": {},
   "outputs": [],
   "source": [
    "# The length of statement_1 is 60 "
   ]
  },
  {
   "cell_type": "code",
   "execution_count": 32,
   "id": "38c04730",
   "metadata": {},
   "outputs": [],
   "source": [
    "statement_2 = \"He is a great addition to the team\""
   ]
  },
  {
   "cell_type": "code",
   "execution_count": 33,
   "id": "54bd34dd",
   "metadata": {},
   "outputs": [
    {
     "data": {
      "text/plain": [
       "34"
      ]
     },
     "execution_count": 33,
     "metadata": {},
     "output_type": "execute_result"
    }
   ],
   "source": [
    "len(statement_2)"
   ]
  },
  {
   "cell_type": "code",
   "execution_count": null,
   "id": "8a141b73",
   "metadata": {},
   "outputs": [],
   "source": [
    "# The length pf statement_2 is 34"
   ]
  },
  {
   "cell_type": "code",
   "execution_count": 34,
   "id": "97481d25",
   "metadata": {},
   "outputs": [
    {
     "data": {
      "text/plain": [
       "True"
      ]
     },
     "execution_count": 34,
     "metadata": {},
     "output_type": "execute_result"
    }
   ],
   "source": [
    "len(statement_1) > len(statement_2)"
   ]
  },
  {
   "cell_type": "code",
   "execution_count": null,
   "id": "cf0958c2",
   "metadata": {},
   "outputs": [],
   "source": [
    "### Q5\n",
    "What values does python use to represent **True** and **False** respectively?\n",
    "\n",
    "True is 1 \n",
    "\n",
    "False is 0"
   ]
  },
  {
   "cell_type": "markdown",
   "id": "e4cc9b15",
   "metadata": {},
   "source": [
    "### Q6\n",
    "Write a code to evaluate if the following statments are True or False.\n",
    "\n",
    "1. 78 is greater than 46 and less than 30 which is an odd number.\n",
    "\n",
    "2. 8-2 is an even number or 8 is a is an odd number.\n",
    "\n",
    "3. The number of characters in the word 'boostrap' is 7 and that of 'sample' is 6."
   ]
  },
  {
   "cell_type": "code",
   "execution_count": 35,
   "id": "605f3250",
   "metadata": {},
   "outputs": [
    {
     "data": {
      "text/plain": [
       "False"
      ]
     },
     "execution_count": 35,
     "metadata": {},
     "output_type": "execute_result"
    }
   ],
   "source": [
    "78 > 46 < 30"
   ]
  },
  {
   "cell_type": "code",
   "execution_count": 132,
   "id": "17bacfb9",
   "metadata": {},
   "outputs": [
    {
     "data": {
      "text/plain": [
       "True"
      ]
     },
     "execution_count": 132,
     "metadata": {},
     "output_type": "execute_result"
    }
   ],
   "source": [
    "(8 - 2)%2 == 0 or 8%2 == 1"
   ]
  },
  {
   "cell_type": "code",
   "execution_count": 133,
   "id": "4a11dca6",
   "metadata": {},
   "outputs": [
    {
     "data": {
      "text/plain": [
       "False"
      ]
     },
     "execution_count": 133,
     "metadata": {},
     "output_type": "execute_result"
    }
   ],
   "source": [
    "len('bootstrap') == 7 and len('sample') == 6"
   ]
  },
  {
   "cell_type": "markdown",
   "id": "bc13f9fc",
   "metadata": {},
   "source": [
    "### Q7\n",
    "Given the following python code,\n",
    "\n",
    "`word='Hello, How are you?'`\n",
    "\n",
    "Write Python code to return the following\n",
    "\n",
    "- How\n",
    "- How are you\n",
    "- are\n",
    "- ?\n",
    "- Hello, How are you\n",
    "\n",
    "\n",
    " "
   ]
  },
  {
   "cell_type": "code",
   "execution_count": 91,
   "id": "728d5137",
   "metadata": {},
   "outputs": [],
   "source": [
    "word= 'Hello, How are you?'"
   ]
  },
  {
   "cell_type": "code",
   "execution_count": 134,
   "id": "375d03e9",
   "metadata": {},
   "outputs": [
    {
     "data": {
      "text/plain": [
       "['Hello,', 'How', 'are', 'you?']"
      ]
     },
     "execution_count": 134,
     "metadata": {},
     "output_type": "execute_result"
    }
   ],
   "source": [
    "word.split()"
   ]
  },
  {
   "cell_type": "code",
   "execution_count": 102,
   "id": "56ffbfa3",
   "metadata": {},
   "outputs": [],
   "source": [
    "word_1 = ['Hello,', 'How', 'are', 'you?']"
   ]
  },
  {
   "cell_type": "code",
   "execution_count": 103,
   "id": "cc910155",
   "metadata": {},
   "outputs": [
    {
     "data": {
      "text/plain": [
       "'How'"
      ]
     },
     "execution_count": 103,
     "metadata": {},
     "output_type": "execute_result"
    }
   ],
   "source": [
    "word_1[1]"
   ]
  },
  {
   "cell_type": "code",
   "execution_count": 110,
   "id": "24cfe77f",
   "metadata": {},
   "outputs": [
    {
     "data": {
      "text/plain": [
       "'How are you?'"
      ]
     },
     "execution_count": 110,
     "metadata": {},
     "output_type": "execute_result"
    }
   ],
   "source": [
    "word[7:]"
   ]
  },
  {
   "cell_type": "code",
   "execution_count": 116,
   "id": "f8e097dc",
   "metadata": {},
   "outputs": [
    {
     "data": {
      "text/plain": [
       "'are'"
      ]
     },
     "execution_count": 116,
     "metadata": {},
     "output_type": "execute_result"
    }
   ],
   "source": [
    "word_1[2]"
   ]
  },
  {
   "cell_type": "code",
   "execution_count": 117,
   "id": "12721080",
   "metadata": {},
   "outputs": [
    {
     "data": {
      "text/plain": [
       "'?'"
      ]
     },
     "execution_count": 117,
     "metadata": {},
     "output_type": "execute_result"
    }
   ],
   "source": [
    "word[-1]"
   ]
  },
  {
   "cell_type": "code",
   "execution_count": 120,
   "id": "7fb796b5",
   "metadata": {},
   "outputs": [
    {
     "data": {
      "text/plain": [
       "'Hello, How are you'"
      ]
     },
     "execution_count": 120,
     "metadata": {},
     "output_type": "execute_result"
    }
   ],
   "source": [
    "word[:18]"
   ]
  },
  {
   "cell_type": "markdown",
   "id": "e4167de5",
   "metadata": {},
   "source": [
    "### Q8\n",
    "Given the following python code,\n",
    "\n",
    "`sentence = \"I am very excited\"`\n",
    "\n",
    "Write Python code to return \n",
    "- Convert sentence to upper case\n",
    "- Convert sentence to lower case\n",
    "- Convert sentence to title case\n",
    "- Convert sentence to list of strings\n",
    " "
   ]
  },
  {
   "cell_type": "code",
   "execution_count": 64,
   "id": "52100b29",
   "metadata": {},
   "outputs": [],
   "source": [
    "sentence = \"I am very excited\""
   ]
  },
  {
   "cell_type": "code",
   "execution_count": 65,
   "id": "9c2ad11a",
   "metadata": {},
   "outputs": [
    {
     "data": {
      "text/plain": [
       "'I AM VERY EXCITED'"
      ]
     },
     "execution_count": 65,
     "metadata": {},
     "output_type": "execute_result"
    }
   ],
   "source": [
    "sentence.upper()"
   ]
  },
  {
   "cell_type": "code",
   "execution_count": 66,
   "id": "9fe66a2a",
   "metadata": {},
   "outputs": [
    {
     "data": {
      "text/plain": [
       "'i am very excited'"
      ]
     },
     "execution_count": 66,
     "metadata": {},
     "output_type": "execute_result"
    }
   ],
   "source": [
    "sentence.lower()"
   ]
  },
  {
   "cell_type": "code",
   "execution_count": 67,
   "id": "2de7eac9",
   "metadata": {},
   "outputs": [
    {
     "data": {
      "text/plain": [
       "'I Am Very Excited'"
      ]
     },
     "execution_count": 67,
     "metadata": {},
     "output_type": "execute_result"
    }
   ],
   "source": [
    "sentence.title()"
   ]
  },
  {
   "cell_type": "code",
   "execution_count": 70,
   "id": "ef2ebe2a",
   "metadata": {},
   "outputs": [
    {
     "data": {
      "text/plain": [
       "['I', 'am', 'very', 'excited']"
      ]
     },
     "execution_count": 70,
     "metadata": {},
     "output_type": "execute_result"
    }
   ],
   "source": [
    "sentence.split()"
   ]
  },
  {
   "cell_type": "markdown",
   "id": "4faf0134",
   "metadata": {},
   "source": [
    "### Q9\n",
    "`word = 'OneThirtyEight'`\n",
    "\n",
    "Using Python code extract the following from the variable word:\n",
    "- One\n",
    "- Thirty\n",
    "- Eight\n",
    "- OneThirty\n",
    "- ThirtyEight\n",
    "- ONETHIRTYEIGHT"
   ]
  },
  {
   "cell_type": "code",
   "execution_count": 75,
   "id": "fcbb2d2c",
   "metadata": {},
   "outputs": [],
   "source": [
    "Word = 'OneThirtyEight'"
   ]
  },
  {
   "cell_type": "code",
   "execution_count": 78,
   "id": "24a48aeb",
   "metadata": {},
   "outputs": [
    {
     "data": {
      "text/plain": [
       "'One'"
      ]
     },
     "execution_count": 78,
     "metadata": {},
     "output_type": "execute_result"
    }
   ],
   "source": [
    "Word[:3]"
   ]
  },
  {
   "cell_type": "code",
   "execution_count": 79,
   "id": "66005b89",
   "metadata": {},
   "outputs": [
    {
     "data": {
      "text/plain": [
       "'Thirty'"
      ]
     },
     "execution_count": 79,
     "metadata": {},
     "output_type": "execute_result"
    }
   ],
   "source": [
    "Word[3:9]"
   ]
  },
  {
   "cell_type": "code",
   "execution_count": 81,
   "id": "9260283b",
   "metadata": {},
   "outputs": [
    {
     "data": {
      "text/plain": [
       "'Eight'"
      ]
     },
     "execution_count": 81,
     "metadata": {},
     "output_type": "execute_result"
    }
   ],
   "source": [
    "Word[9:14]"
   ]
  },
  {
   "cell_type": "code",
   "execution_count": 83,
   "id": "b0eb4625",
   "metadata": {},
   "outputs": [
    {
     "data": {
      "text/plain": [
       "'OneThirty'"
      ]
     },
     "execution_count": 83,
     "metadata": {},
     "output_type": "execute_result"
    }
   ],
   "source": [
    "Word[:9]"
   ]
  },
  {
   "cell_type": "code",
   "execution_count": 84,
   "id": "27ceed94",
   "metadata": {},
   "outputs": [
    {
     "data": {
      "text/plain": [
       "'ThirtyEight'"
      ]
     },
     "execution_count": 84,
     "metadata": {},
     "output_type": "execute_result"
    }
   ],
   "source": [
    "Word[3:14]"
   ]
  },
  {
   "cell_type": "code",
   "execution_count": 87,
   "id": "b3541869",
   "metadata": {},
   "outputs": [
    {
     "data": {
      "text/plain": [
       "'ONETHIRTYEIGHT'"
      ]
     },
     "execution_count": 87,
     "metadata": {},
     "output_type": "execute_result"
    }
   ],
   "source": [
    "Word.upper()"
   ]
  },
  {
   "cell_type": "markdown",
   "id": "2a4eea1f",
   "metadata": {},
   "source": [
    "### Q10\n",
    "Turn Ault'Kelly into a string and assign it to a variable  called name."
   ]
  },
  {
   "cell_type": "code",
   "execution_count": 89,
   "id": "aa2f0a08",
   "metadata": {},
   "outputs": [
    {
     "data": {
      "text/plain": [
       "\"Ault'Kelly\""
      ]
     },
     "execution_count": 89,
     "metadata": {},
     "output_type": "execute_result"
    }
   ],
   "source": [
    "str(\"Ault'Kelly\")\n",
    "name"
   ]
  }
 ],
 "metadata": {
  "kernelspec": {
   "display_name": "Python 3 (ipykernel)",
   "language": "python",
   "name": "python3"
  },
  "language_info": {
   "codemirror_mode": {
    "name": "ipython",
    "version": 3
   },
   "file_extension": ".py",
   "mimetype": "text/x-python",
   "name": "python",
   "nbconvert_exporter": "python",
   "pygments_lexer": "ipython3",
   "version": "3.9.13"
  }
 },
 "nbformat": 4,
 "nbformat_minor": 5
}
