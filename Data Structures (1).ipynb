{
 "cells": [
  {
   "cell_type": "markdown",
   "id": "3c2e90df",
   "metadata": {},
   "source": [
    "### Q1\n",
    "\n",
    "Name the four built-in data structures in python. Give one examples for each\n",
    "\n",
    "1. List\n",
    "2. Tuples\n",
    "3. Sets\n",
    "4. Dictionaries"
   ]
  },
  {
   "cell_type": "markdown",
   "id": "b6e1dd1b",
   "metadata": {},
   "source": [
    "### Q2\n",
    "\n",
    "State two differences between a list and a tuple in Python.\n",
    "\n",
    "1. A list a mutable a tuple is not\n",
    "2. A list can be duplicated a tuple cannot"
   ]
  },
  {
   "cell_type": "markdown",
   "id": "815b4e67",
   "metadata": {},
   "source": [
    "### Q3\n",
    "Make a list containing names of five animals with a variable name `animal_list`\n",
    "\n",
    "Write a code for the following:\n",
    "- Print the first two animals\n",
    "- Print the last two animals\n",
    "- Add three extra animals to the variable `animal_list`\n",
    "- Remove the first two animals from the variable `animal_list`\n",
    "- How many animals are in the `animal_list`?\n",
    "- Create a variable animal_set which stores the set of animal_list \n",
    "- How many elements are in the animal_set?\n"
   ]
  },
  {
   "cell_type": "code",
   "execution_count": 32,
   "id": "d5a9ebea",
   "metadata": {},
   "outputs": [
    {
     "name": "stdout",
     "output_type": "stream",
     "text": [
      "['dog', 'cat']\n",
      "['bird', 'goat']\n",
      "['dog', 'cat', 'sheep', 'bird', 'goat', 'snake', 'pigeon', 'hen']\n",
      "['sheep', 'bird', 'goat', 'snake', 'pigeon', 'hen']\n",
      "6\n",
      "{'sheep', 'goat', 'hen', 'pigeon', 'bird', 'snake'}\n",
      "6\n"
     ]
    }
   ],
   "source": [
    "animal_list = [\"dog\", \"cat\", \"sheep\", \"bird\", \"goat\"]\n",
    "\n",
    "# printing the first 2 variables\n",
    "print(animal_list[:2])\n",
    "\n",
    "# printing the last 2 variables\n",
    "print(animal_list[-2:])\n",
    "\n",
    "# adding 3 more variables to the list animal_list\n",
    "animal_list.append(\"snake\")\n",
    "animal_list.append(\"pigeon\")\n",
    "animal_list.append(\"hen\")\n",
    "#calling the list to see if the additions have been made\n",
    "print(animal_list)\n",
    "\n",
    "# deleting variab;es from a list\n",
    "animal_list.pop(0)\n",
    "animal_list.pop(0)\n",
    "print(animal_list)\n",
    "\n",
    "# checking the list length of animal_list\n",
    "print(len(animal_list))\n",
    "\n",
    "#Changing the data type to set\n",
    "animal_set = set(animal_list)\n",
    "print(animal_set)\n",
    "\n",
    "#checking the list length of animal_list\n",
    "print(len(animal_set))"
   ]
  },
  {
   "cell_type": "markdown",
   "id": "113c9970",
   "metadata": {},
   "source": [
    "### Q4\n",
    "\n",
    "Given a list:\n",
    "\n",
    "suitcase = [\"sunglasses\", \"hat\", \"passport\", \"laptop\", \"suit\", \"shoes\"]\n",
    "\n",
    "a. Create a list called first containing only the two first items from suitcase.\n",
    "\n",
    "b. Create a list called middle containing only the two middle items from suitcase.\n",
    "\n",
    "c. Create a list called last made up only of the last two items from suitcase."
   ]
  },
  {
   "cell_type": "code",
   "execution_count": 38,
   "id": "7c799232",
   "metadata": {},
   "outputs": [
    {
     "name": "stdout",
     "output_type": "stream",
     "text": [
      "['sunglasses', 'hat', 'passport', 'laptop', 'suit', 'shoes']\n",
      "['sunglasses', 'hat']\n",
      "['passport', 'laptop']\n",
      "['suit', 'shoes']\n"
     ]
    }
   ],
   "source": [
    "suitcase = [\"sunglasses\", \"hat\", \"passport\", \"laptop\", \"suit\", \"shoes\"]\n",
    "print(suitcase)\n",
    "\n",
    "# creating a new list first and calling values from suitcase\n",
    "first = suitcase[:2]\n",
    "print(first)\n",
    "\n",
    "#creating a new list middle and calling values from suitcase\n",
    "middle = suitcase[2:4]\n",
    "print(middle)\n",
    "\n",
    "#creating a new list last and calling values from suitcase\n",
    "last = suitcase[-2:]\n",
    "print(last)"
   ]
  },
  {
   "cell_type": "markdown",
   "id": "711ba044",
   "metadata": {},
   "source": [
    "### Q5\n",
    "Write a python code to insert 35 into the list below. Make sure it is inserted in the right position to maintain the order of the data.\n",
    "\n",
    "`values = [20,25,30,40,45,50,55,60,65,70]`"
   ]
  },
  {
   "cell_type": "code",
   "execution_count": 41,
   "id": "6170086f",
   "metadata": {},
   "outputs": [
    {
     "name": "stdout",
     "output_type": "stream",
     "text": [
      "[20, 25, 30, '35', 40, 45, 50, 55, 60, 65, 70]\n"
     ]
    }
   ],
   "source": [
    "values = [20,25,30,40,45,50,55,60,65,70]\n",
    "\n",
    "# inserting a new variable 35 into values\n",
    "values.insert(3, '35')\n",
    "print(values)"
   ]
  },
  {
   "cell_type": "markdown",
   "id": "f535cf64",
   "metadata": {},
   "source": [
    "### Q6\n",
    "\n",
    "Given that Python lists and Python tuples are quite similar – when might you prefer to use a tuple over a list?\n",
    "\n",
    "Ans: When you don't want to append or add elements to the data set."
   ]
  },
  {
   "cell_type": "markdown",
   "id": "346927f6",
   "metadata": {},
   "source": [
    "### Q7\n",
    "Create a dictionary with 5 Ghana regions and their capitals and store it in the variable `region_capital`\n",
    "\n",
    "- Print out the keys of region_capital\n",
    "- Print out the values of region_capital\n"
   ]
  },
  {
   "cell_type": "code",
   "execution_count": 52,
   "id": "9d74f9de",
   "metadata": {},
   "outputs": [
    {
     "data": {
      "text/plain": [
       "dict_keys(['Volta', 'Central', 'Asanti', 'Eastern', 'Northern'])"
      ]
     },
     "execution_count": 52,
     "metadata": {},
     "output_type": "execute_result"
    }
   ],
   "source": [
    "#creating a dict with 5 regions and their capital\n",
    "egions = {\"Volta\" : \"Ho\", \"Central\" : \"Capecoast\", \"Asanti\" : \"Kumasi\", \"Eastern\" : \"Koforidua\", \"Northern\" : \"Tamale\"}\n",
    "Regions.keys()\n"
   ]
  },
  {
   "cell_type": "code",
   "execution_count": 53,
   "id": "18235a20",
   "metadata": {},
   "outputs": [
    {
     "data": {
      "text/plain": [
       "dict_values(['Ho', 'Capecoast', 'Kumasi', 'Koforidua', 'Tamale'])"
      ]
     },
     "execution_count": 53,
     "metadata": {},
     "output_type": "execute_result"
    }
   ],
   "source": [
    "Regions.values()"
   ]
  },
  {
   "cell_type": "markdown",
   "id": "81984970",
   "metadata": {},
   "source": [
    "### Q8\n",
    "\n",
    "`values = [3,4,5,6,3,4,3,5,2,4,2,5,6,1,6]`\n",
    "\n",
    "Using the codes above answer the following questions:\n",
    "- What is the total number of elements in values?\n",
    "- What is the highest occuring number in the values variable?\n",
    "- Convert values into a set and store it into a variable named `values_set`\n",
    "- How many elements are in the variable values_set?\n"
   ]
  },
  {
   "cell_type": "code",
   "execution_count": 60,
   "id": "cefe763c",
   "metadata": {},
   "outputs": [
    {
     "name": "stdout",
     "output_type": "stream",
     "text": [
      "15\n",
      "{1, 2, 3, 4, 5, 6}\n",
      "6\n"
     ]
    }
   ],
   "source": [
    "values = [3,4,5,6,3,4,3,5,2,4,2,5,6,1,6]\n",
    "\n",
    "#Calling the length of values\n",
    "print(len(values))\n",
    "\n",
    "#Changing the list to set\n",
    "values_set = set(values)\n",
    "print(values_set)\n",
    "\n",
    "#Calling the length of values_set\n",
    "print(len(values_set))"
   ]
  },
  {
   "cell_type": "markdown",
   "id": "801d5876",
   "metadata": {},
   "source": [
    "### Q9\n",
    "Write a Python script to print a dictionary where the keys are numbers between 1 and 15 (both included) and the values are the square of the keys."
   ]
  },
  {
   "cell_type": "code",
   "execution_count": 67,
   "id": "3280d41f",
   "metadata": {},
   "outputs": [
    {
     "name": "stdout",
     "output_type": "stream",
     "text": [
      "{1: 1, 2: 4, 3: 9, 4: 16, 5: 25, 6: 36, 7: 49, 8: 64, 9: 81, 10: 100, 11: 121, 12: 144, 13: 169, 14: 196, 15: 225}\n"
     ]
    }
   ],
   "source": [
    "#creating a dict\n",
    "Numbers = dict()\n",
    "for num in range(1,16):\n",
    "    Numbers[num]=num**2\n",
    "print(Numbers)"
   ]
  },
  {
   "cell_type": "markdown",
   "id": "18954e57",
   "metadata": {},
   "source": [
    "### Q10\n",
    "Write a Python program to create a dictionary of keys x, y, and z where each key has as value a list from 11-20, 21-30, and 31-40 respectively. Access the fifth value of each key from the dictionary."
   ]
  },
  {
   "cell_type": "code",
   "execution_count": 69,
   "id": "fec19820",
   "metadata": {},
   "outputs": [
    {
     "name": "stdout",
     "output_type": "stream",
     "text": [
      "x: 5\n",
      "y: 25\n",
      "z: 35\n"
     ]
    }
   ],
   "source": [
    "#printing the fifth valuse of each dict\n",
    "\n",
    "values =['x', 'y', 'z']\n",
    "\n",
    "x ={}\n",
    "for var in values:\n",
    "    if var== 'x':\n",
    "        x[var] = list(range(1,21))\n",
    "    elif var == 'y':\n",
    "        x[var] = list(range(21,31))\n",
    "    else:\n",
    "        x[var] = list(range(31,40))\n",
    "for var in values:\n",
    "    print(f'{var}: {x[var][4]}')"
   ]
  }
 ],
 "metadata": {
  "kernelspec": {
   "display_name": "Python 3 (ipykernel)",
   "language": "python",
   "name": "python3"
  },
  "language_info": {
   "codemirror_mode": {
    "name": "ipython",
    "version": 3
   },
   "file_extension": ".py",
   "mimetype": "text/x-python",
   "name": "python",
   "nbconvert_exporter": "python",
   "pygments_lexer": "ipython3",
   "version": "3.9.13"
  }
 },
 "nbformat": 4,
 "nbformat_minor": 5
}
